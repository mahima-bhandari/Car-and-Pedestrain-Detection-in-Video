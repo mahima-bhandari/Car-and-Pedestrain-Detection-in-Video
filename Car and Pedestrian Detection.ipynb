{
 "cells": [
  {
   "cell_type": "markdown",
   "id": "25f312b0-19f4-4cab-be85-b4975de56a83",
   "metadata": {},
   "source": [
    "## *Pedestrian Detection*"
   ]
  },
  {
   "cell_type": "code",
   "execution_count": 13,
   "id": "30a2200c-4052-4cb0-bc38-f1432742df87",
   "metadata": {},
   "outputs": [],
   "source": [
    "import cv2\n",
    "import numpy as np"
   ]
  },
  {
   "cell_type": "code",
   "execution_count": 14,
   "id": "2e425be0-ac93-47de-9c53-253201084d84",
   "metadata": {},
   "outputs": [],
   "source": [
    "body_haar_classifier = cv2.CascadeClassifier('haarcascade_fullbody.xml')\n",
    "\n",
    "cap = cv2.VideoCapture('walking.avi')\n",
    "\n",
    "while cap.isOpened():\n",
    "    ret, frame = cap.read()\n",
    "\n",
    "    if not ret:\n",
    "        break\n",
    "        \n",
    "    cv2.resize(frame, None, fx=0.5, fy=0.5, interpolation=cv2.INTER_LINEAR)\n",
    "\n",
    "    gray_img = cv2.cvtColor(frame, cv2.COLOR_BGR2GRAY)\n",
    "    \n",
    "    bodies = body_haar_classifier.detectMultiScale(gray_img, 1.3, 3)\n",
    "\n",
    "    for (x,y,w,h) in bodies:\n",
    "        cv2.rectangle(frame, (x,y), (x+w,y+h), (127,255,0), 2)\n",
    "        cv2.imshow('Pedestrains Walking', frame)\n",
    "\n",
    "    if cv2.waitKey(1)==27:\n",
    "        break\n",
    "cap.release()\n",
    "cv2.destroyAllWindows()"
   ]
  },
  {
   "cell_type": "markdown",
   "id": "2a039281-01e9-40b2-96d0-aaf856a5b0e3",
   "metadata": {},
   "source": [
    "## *Car Detection*"
   ]
  },
  {
   "cell_type": "code",
   "execution_count": 1,
   "id": "7e325c50-b7e4-4314-9973-6e001cdcc644",
   "metadata": {},
   "outputs": [],
   "source": [
    "import cv2\n",
    "import numpy as np\n",
    "import time"
   ]
  },
  {
   "cell_type": "code",
   "execution_count": 2,
   "id": "62997b90-2f3d-4787-bcb7-0182f52f039f",
   "metadata": {},
   "outputs": [],
   "source": [
    "cars_haar_classifier = cv2.CascadeClassifier('haarcascade_car.xml')\n",
    "\n",
    "cap = cv2.VideoCapture('cars.avi')\n",
    "\n",
    "while cap.isOpened():\n",
    "    #time.sleep(0.05)\n",
    "    ret, frame = cap.read()\n",
    "    if not ret:\n",
    "        break\n",
    "    gray_img = cv2.cvtColor(frame, cv2.COLOR_BGR2GRAY)\n",
    "\n",
    "    cars = cars_haar_classifier.detectMultiScale(gray_img, 1.3, 3)\n",
    "\n",
    "    for (x,y,w,h) in cars:\n",
    "        cv2.rectangle(frame, (x,y), (x+w,y+h), (255,255,0), 2)\n",
    "        cv2.imshow('Cars Detection', frame)\n",
    "        if cv2.waitKey(1)==27:\n",
    "            break\n",
    "            \n",
    "cap.release()\n",
    "cv2.destroyAllWindows()"
   ]
  },
  {
   "cell_type": "code",
   "execution_count": null,
   "id": "96fbf173-2eb4-40d6-aabd-2b92abc8b384",
   "metadata": {},
   "outputs": [],
   "source": []
  }
 ],
 "metadata": {
  "kernelspec": {
   "display_name": "Python 3 (ipykernel)",
   "language": "python",
   "name": "python3"
  },
  "language_info": {
   "codemirror_mode": {
    "name": "ipython",
    "version": 3
   },
   "file_extension": ".py",
   "mimetype": "text/x-python",
   "name": "python",
   "nbconvert_exporter": "python",
   "pygments_lexer": "ipython3",
   "version": "3.11.5"
  }
 },
 "nbformat": 4,
 "nbformat_minor": 5
}
